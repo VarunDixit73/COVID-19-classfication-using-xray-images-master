{
 "cells": [
  {
   "cell_type": "code",
   "execution_count": 1,
   "metadata": {},
   "outputs": [],
   "source": [
    "from fastai.vision import *\n",
    "import warnings\n",
    "import matplotlib.pyplot as plt\n",
    "import cv2\n",
    "warnings.filterwarnings(\"ignore\")"
   ]
  },
  {
   "cell_type": "code",
   "execution_count": 2,
   "metadata": {},
   "outputs": [
    {
     "ename": "NameError",
     "evalue": "name 'load_learner' is not defined",
     "output_type": "error",
     "traceback": [
      "\u001b[1;31m---------------------------------------------------------------------------\u001b[0m",
      "\u001b[1;31mNameError\u001b[0m                                 Traceback (most recent call last)",
      "\u001b[1;32mc:\\Users\\varun\\Downloads\\COVID-19-classfication-using-xray-images-master\\COVID-19-classfication-using-xray-images-master\\test_image.ipynb Cell 2'\u001b[0m in \u001b[0;36m<cell line: 1>\u001b[1;34m()\u001b[0m\n\u001b[1;32m----> <a href='vscode-notebook-cell:/c%3A/Users/varun/Downloads/COVID-19-classfication-using-xray-images-master/COVID-19-classfication-using-xray-images-master/test_image.ipynb#ch0000001?line=0'>1</a>\u001b[0m learner \u001b[39m=\u001b[39m load_learner(path\u001b[39m=\u001b[39m\u001b[39m'\u001b[39m\u001b[39mcovid_classifier_model\u001b[39m\u001b[39m'\u001b[39m,file\u001b[39m=\u001b[39m\u001b[39m'\u001b[39m\u001b[39mmodel.pkl\u001b[39m\u001b[39m'\u001b[39m)\n",
      "\u001b[1;31mNameError\u001b[0m: name 'load_learner' is not defined"
     ]
    }
   ],
   "source": [
    "learner = load_learner(path='covid_classifier_model',file='model.pkl')"
   ]
  },
  {
   "cell_type": "code",
   "execution_count": null,
   "metadata": {},
   "outputs": [
    {
     "name": "stdout",
     "output_type": "stream",
     "text": [
      "Covid-19\n"
     ]
    }
   ],
   "source": [
    "img = open_image(r\"dataset\\Valid\\Covid-19\\1-s2.0-S0140673620303706-fx1_lrg.jpg\")\n",
    "cat,tensor,probs=learner.predict(img)\n",
    "print(cat)"
   ]
  },
  {
   "cell_type": "code",
   "execution_count": null,
   "metadata": {},
   "outputs": [
    {
     "name": "stdout",
     "output_type": "stream",
     "text": [
      "No_findings\n"
     ]
    }
   ],
   "source": [
    "img = open_image(r\"dataset\\Valid\\No_findings\\00001280_004.png\")\n",
    "cat,tensor,probs=learner.predict(img)\n",
    "print(cat)"
   ]
  },
  {
   "cell_type": "code",
   "execution_count": null,
   "metadata": {},
   "outputs": [
    {
     "name": "stdout",
     "output_type": "stream",
     "text": [
      "Pneumonia\n"
     ]
    }
   ],
   "source": [
    "img = open_image(r\"dataset\\Valid\\Pneumonia\\00000061_012.png\")\n",
    "cat,tensor,probs=learner.predict(img)\n",
    "print(cat)"
   ]
  },
  {
   "cell_type": "code",
   "execution_count": null,
   "metadata": {},
   "outputs": [],
   "source": []
  }
 ],
 "metadata": {
  "interpreter": {
   "hash": "be9c231c5b504d20b06eca3e25a941dec413bf062c515d7fd6b9384530ff9409"
  },
  "kernelspec": {
   "display_name": "Python 3.9.7 ('base')",
   "language": "python",
   "name": "python3"
  },
  "language_info": {
   "codemirror_mode": {
    "name": "ipython",
    "version": 3
   },
   "file_extension": ".py",
   "mimetype": "text/x-python",
   "name": "python",
   "nbconvert_exporter": "python",
   "pygments_lexer": "ipython3",
   "version": "3.9.7"
  },
  "orig_nbformat": 2
 },
 "nbformat": 4,
 "nbformat_minor": 2
}
